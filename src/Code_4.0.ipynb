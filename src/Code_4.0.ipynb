{
 "cells": [
  {
   "cell_type": "markdown",
   "source": [
    "# **Q-Learning (Reinforcement Learning) based Maze Solver**"
   ],
   "metadata": {}
  },
  {
   "cell_type": "markdown",
   "source": [
    "## Required Libraries & Modules:"
   ],
   "metadata": {}
  },
  {
   "cell_type": "code",
   "execution_count": 31,
   "source": [
    "import numpy as np\n",
    "import random\n",
    "import matplotlib.pyplot as plt\n",
    "from ImgPreprocess import preprocess"
   ],
   "outputs": [],
   "metadata": {}
  },
  {
   "cell_type": "markdown",
   "source": [
    "## Agent of the Q-Learning Model:"
   ],
   "metadata": {}
  },
  {
   "cell_type": "code",
   "execution_count": 32,
   "source": [
    "class Agent:\n",
    "    # defining Agent related functions and instances\n",
    "\n",
    "    def __init__(self, i = 0, j = 0):\n",
    "        # initailises the Agent object with passed coordinates (default: (0, 0))\n",
    "\n",
    "        self.i = i\n",
    "        self.j = j\n",
    "\n",
    "    @property\n",
    "    def loc(self):\n",
    "        # returns the current location of the Agent in the maze as tuple\n",
    "\n",
    "        return (self.i, self.j)\n",
    "    \n",
    "    def vmove(self, direction):\n",
    "        # returns a new object of the Agent after moving vertically \n",
    "\n",
    "        direction = 1 if direction > 0 else -1\n",
    "        return Agent(self.i + direction, self.j)\n",
    "    \n",
    "    def hmove(self, direction):\n",
    "        # returns a new object of the Agent after moving horizontally\n",
    "\n",
    "        direction = 1 if direction > 0 else -1\n",
    "        return Agent(self.i, direction + self.j) \n",
    "    \n",
    "    def __repr__(self):\n",
    "        # returns a string denoting the current location of the Agent in the maze\n",
    "        \n",
    "        return str(self.loc)"
   ],
   "outputs": [],
   "metadata": {}
  },
  {
   "cell_type": "markdown",
   "source": [
    "## Defining the Maze: "
   ],
   "metadata": {}
  }
