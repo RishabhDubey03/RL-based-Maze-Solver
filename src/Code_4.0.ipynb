{
 "cells": [
  {
   "cell_type": "markdown",
   "source": [
    "# **Q-Learning (Reinforcement Learning) based Maze Solver**"
   ],
   "metadata": {}
  },
  {
   "cell_type": "markdown",
   "source": [
    "## Required Libraries & Modules:"
   ],
   "metadata": {}
  },
  {
   "cell_type": "code",
   "execution_count": 11,
   "source": [
    "import numpy as np\r\n",
    "import random\r\n",
    "import matplotlib.pyplot as plt\r\n",
    "from ImgPreprocess import preprocess"
   ],
   "outputs": [],
   "metadata": {}
  },
  {
   "cell_type": "markdown",
   "source": [
    "## Agent of the Q-Learning Model:"
   ],
   "metadata": {}
  },
  {
   "cell_type": "code",
   "execution_count": 12,
   "source": [
    "class Agent:\r\n",
    "    # defining Agent related functions and instances\r\n",
    "\r\n",
    "    def __init__(self, i = 0, j = 0):\r\n",
    "        # initailises the Agent object with passed coordinates (default: (0, 0))\r\n",
    "\r\n",
    "        self.i = i\r\n",
    "        self.j = j\r\n",
    "\r\n",
    "    @property\r\n",
    "    def loc(self):\r\n",
    "        # returns the current location of the Agent in the maze as tuple\r\n",
    "\r\n",
    "        return (self.i, self.j)\r\n",
    "    \r\n",
    "    def vmove(self, direction):\r\n",
    "        # returns a new object of the Agent after moving vertically \r\n",
    "\r\n",
    "        direction = 1 if direction > 0 else -1\r\n",
    "        return Agent(self.i + direction, self.j)\r\n",
    "    \r\n",
    "    def hmove(self, direction):\r\n",
    "        # returns a new object of the Agent after moving horizontally\r\n",
    "\r\n",
    "        direction = 1 if direction > 0 else -1\r\n",
    "        return Agent(self.i, direction + self.j) \r\n",
    "    \r\n",
    "    def __repr__(self):\r\n",
    "        # returns a string denoting the current location of the Agent in the maze\r\n",
    "        \r\n",
    "        return str(self.loc)"
   ],
   "outputs": [],
   "metadata": {}
  }
 ],
 "metadata": {
  "interpreter": {
   "hash": "bd4c67ef142469da7dc4d338a32ac40116904d26076b8e6aa587d80720bc6a2b"
  },
  "kernelspec": {
   "display_name": "Python 3",
   "language": "python",
   "name": "python3"
  },
  "language_info": {
   "codemirror_mode": {
    "name": "ipython",
    "version": 3
   },
   "file_extension": ".py",
   "mimetype": "text/x-python",
   "name": "python",
   "nbconvert_exporter": "python",
   "pygments_lexer": "ipython3",
   "version": "3.9.4"
  }
 },
 "nbformat": 4,
 "nbformat_minor": 5
}