{
 "cells": [
  {
   "cell_type": "code",
   "execution_count": 1,
   "source": [
    "import numpy as np\r\n",
    "from collections import namedtuple\r\n",
    "import time\r\n",
    "import random\r\n",
    "import matplotlib.pyplot as plt"
   ],
   "outputs": [],
   "metadata": {}
  },
  {
   "cell_type": "code",
   "execution_count": 2,
   "source": [
    "class Agent:\r\n",
    "    def __init__(self, i=0,j=0):\r\n",
    "        self.i=i\r\n",
    "        self.j=j\r\n",
    "    @property\r\n",
    "    def loc(self):\r\n",
    "        return(self.i,self.j)\r\n",
    "    \r\n",
    "    def vmove(self,direction):\r\n",
    "        direction=1 if direction>0 else -1\r\n",
    "        return Agent(self.i + direction, self.j)\r\n",
    "    \r\n",
    "    def hmove(self,direction):\r\n",
    "        direction=1 if direction>0 else -1\r\n",
    "        return Agent(self.i , direction+ self.j) \r\n",
    "    \r\n",
    "    def __repr__(self):\r\n",
    "        return str(self.loc)"
   ],
   "outputs": [],
   "metadata": {}
  },
  {
   "cell_type": "code",
   "execution_count": 3,
   "source": [
    "# general maze class defination\r\n",
    "class Maze:\r\n",
    "  \r\n",
    "    # defining a general 4*4 matrix intialised as 0 matrix\r\n",
    "    def __init__(self, rows=4,columns=4):\r\n",
    "        self.env =np.zeros((rows, columns))\r\n",
    "        # mousy is object of Agent class\r\n",
    "        self.mousy=Agent(0,0)\r\n",
    "     \r\n",
    "    def reset(self):\r\n",
    "        self.mousy.i = 0\r\n",
    "        self.mousy.j = 0\r\n",
    "\r\n",
    "    def state_for_agent(self,a):\r\n",
    "        nr,nc=self.env.shape\r\n",
    "        return a.i*nc+a.j\r\n",
    "        \r\n",
    "    def in_bounds(self,i,j):\r\n",
    "        nr,nc= self.env.shape\r\n",
    "        return i>=0 and i<nr and j>=0 and j<nc\r\n",
    "    \r\n",
    "    def agent_in_bounds(self,a):\r\n",
    "        return self.in_bounds(a.i,a.j)\r\n",
    "    \r\n",
    "    def agent_dient(self,a):\r\n",
    "        return not self.env[a.i,a.j]== -1\r\n",
    "    \r\n",
    "    def is_valid_new_agent(self,a):\r\n",
    "        return self.agent_in_bounds(a) and self.agent_dient(a)\r\n",
    "    \r\n",
    "    @property\r\n",
    "    def all_actions(self):        \r\n",
    "        a=self.mousy    \r\n",
    "        return [\r\n",
    "            a.vmove(1),\r\n",
    "            a.vmove(-1),\r\n",
    "            a.hmove(1),\r\n",
    "            a.hmove(-1),\r\n",
    "        ]\r\n",
    "       \r\n",
    "    def compute_possible_moves(self):\r\n",
    "        moves = self.all_actions\r\n",
    "        return [(m, ii) for ii,m in enumerate(moves) if self.is_valid_new_agent(m) ]\r\n",
    "    \r\n",
    "    def do_a_move(self,a):\r\n",
    "        assert self.is_valid_new_agent(a),\"Mousy can't go there\"\r\n",
    "        self.mousy=a\r\n",
    "        return 10 if self.has_won() else -0.1\r\n",
    "        \r\n",
    "    def has_won(self):\r\n",
    "        a=self.mousy\r\n",
    "        return self.env[a.i,a.j]==1\r\n",
    "        \r\n",
    "    def visualise(self):\r\n",
    "        assert self.agent_in_bounds(self.mousy), \"mousy is out of bounds\"\r\n",
    "        ec=self.env.copy()\r\n",
    "        mo=self.mousy\r\n",
    "        ec[mo.i,mo.j]=6\r\n",
    "        print(ec)\r\n",
    "        "
   ],
   "outputs": [],
   "metadata": {
    "scrolled": true
   }
  },
  {
   "cell_type": "code",
   "execution_count": 4,
   "source": [
    "def show(M):\r\n",
    "        ec=M.env.copy()\r\n",
    "        mo=M.mousy\r\n",
    "        ec[mo.i,mo.j]=0.5\r\n",
    "        plt.matshow(ec)\r\n",
    "        plt.clim(-1, 1)\r\n",
    "        plt.colorbar()\r\n",
    "        plt.show()"
   ],
   "outputs": [],
   "metadata": {}
  },
  {
   "cell_type": "code",
   "execution_count": 5,
   "source": [
    "# A random test maze we are trying to solve\r\n",
    "def make_test_maze(s=4): \r\n",
    "    m = Maze(s,s)\r\n",
    "    e = m.env\r\n",
    "    h, w = e.shape\r\n",
    "    e[-1,-1]= 1\r\n",
    "\r\n",
    "    for i in range(len(e)):\r\n",
    "        for j in range(len(e[i])):\r\n",
    "\r\n",
    "            if (i == 0 and j == 0) or (i == h-1 and j == w-1):continue\r\n",
    "  \r\n",
    "            if random.random()<0.3:\r\n",
    "                e[i,j]= -1\r\n",
    "    return m\r\n",
    "\r\n",
    "#             if i in [0, h-1] and j in [0, w-1]: \r\n",
    "#                 continue"
   ],
   "outputs": [],
   "metadata": {}
  },
  {
   "cell_type": "code",
   "execution_count": 6,
   "source": [
    "class Qlearning:\r\n",
    "    def __init__(self, num_states, num_actions, lr=0.1, discount_factor =0.99):\r\n",
    "        self.q = np.zeros((num_states, num_actions))\r\n",
    "        self.a = lr\r\n",
    "        self.g = discount_factor\r\n",
    "    \r\n",
    "    def update(self, st, at, rt, st1):\r\n",
    "        q = self.q  \r\n",
    "        a = self.a\r\n",
    "        g = self.g\r\n",
    "        #bellman equation\r\n",
    "        q[st, at] = (1-a) * q[st, at] + a * (rt + g * np.max(q[st1]))"
   ],
   "outputs": [],
   "metadata": {}
  },
  {
   "cell_type": "code",
   "execution_count": 7,
   "source": [
    "def main():\r\n",
    "    s = int(input(\"enter the size of maze\"))\r\n",
    "    q = Qlearning(s**2,4)\r\n",
    "    \r\n",
    "    go_ahead = False\r\n",
    "    \r\n",
    "    while not go_ahead:\r\n",
    "        M=make_test_maze(s)\r\n",
    "#         M.visualise()\r\n",
    "        show(M)\r\n",
    "        ctu = input ()\r\n",
    "        if ctu.lower() == 'n':\r\n",
    "            continue\r\n",
    "        go_ahead=True\r\n",
    "        \r\n",
    "        \r\n",
    "    \r\n",
    "    for i in range(200):\r\n",
    "        M.reset()  \r\n",
    "        final_score = 0\r\n",
    "    \r\n",
    "        itr = 0\r\n",
    "        while not M.has_won():\r\n",
    "            itr += 1\r\n",
    "# exploration and exploitation            \r\n",
    "            if  random.random()> 0.5  or i < 100:\r\n",
    "                moves= M.compute_possible_moves()\r\n",
    "                random.shuffle(moves)\r\n",
    "                move, move_idx = moves[0]\r\n",
    "            else:\r\n",
    "                moves = M.all_actions\r\n",
    "                s= M.state_for_agent(M.mousy)\r\n",
    "                move_idx = np.argmax(q.q[s])\r\n",
    "                move = moves[move_idx]\r\n",
    "\r\n",
    "                 \r\n",
    "            at = move_idx\r\n",
    "            st = M.state_for_agent(M.mousy)\r\n",
    "            score = M.do_a_move(move)\r\n",
    "            final_score += score \r\n",
    "            rt = score\r\n",
    "            st1 = M.state_for_agent(M.mousy)\r\n",
    "\r\n",
    "            q.update(st, at , rt, st1)\r\n",
    "            \r\n",
    "            #bellman equation\r\n",
    "#           q[st, at] = (1-a) * q[st, at] + a * (rt + g * np.max(q[st1]))\r\n",
    "\r\n",
    "#             show(M)        \r\n",
    "#             print(q.q)\r\n",
    "#             print(\"\\n\")\r\n",
    "        \r\n",
    "        print(f\"finished episode with a final score of {final_score} and in {itr} itereations\")\r\n",
    "    print(q.q)\r\n",
    "     \r\n",
    "        \r\n",
    "    #BEST SOLUTION\r\n",
    "    print('\\n')\r\n",
    "    print(\"MAZE BEST SOLUTION\")\r\n",
    "    M.reset()\r\n",
    "#     M.visualise()\r\n",
    "    show(M)\r\n",
    "    while not M.has_won():\r\n",
    "        s= M.state_for_agent(M.mousy)\r\n",
    "        a_idx = np.argmax(q.q[s])\r\n",
    "        M.do_a_move(M.all_actions[a_idx])\r\n",
    "        \r\n",
    "#         M.visualise()\r\n",
    "\r\n",
    "#         ec=M.env.copy()\r\n",
    "#         mo=M.mousy\r\n",
    "#         ec[mo.i,mo.j]=0.5\r\n",
    "#         plt.matshow(ec)\r\n",
    "#         plt.clim(-1, 1)\r\n",
    "#         plt.colorbar()\r\n",
    "#         plt.show()\r\n",
    "        show(M)\r\n",
    "        \r\n",
    "    M.visualise()\r\n"
   ],
   "outputs": [],
   "metadata": {}
  },
  {
   "cell_type": "code",
   "execution_count": 8,
   "source": [
    "if __name__==\"__main__\":\r\n",
    "    main()  \r\n"
   ],
   "outputs": [
    {
     "output_type": "display_data",
     "data": {
      "text/plain": [
       "<Figure size 288x288 with 2 Axes>"
      ],
      "image/png": "[encoded data removed]"
     },
     "metadata": {
      "needs_background": "light"
     }
    }
   ],
   "metadata": {
    "scrolled": false
   }
  },
  {
   "cell_type": "markdown",
   "source": [],
   "metadata": {}
  },
  {
   "cell_type": "code",
   "execution_count": null,
   "source": [],
   "outputs": [],
   "metadata": {}
  }
 ],
 "metadata": {
  "kernelspec": {
   "name": "python3",
   "display_name": "Python 3.9.6 64-bit ('.venv': venv)"
  },
  "language_info": {
   "codemirror_mode": {
    "name": "ipython",
    "version": 3
   },
   "file_extension": ".py",
   "mimetype": "text/x-python",
   "name": "python",
   "nbconvert_exporter": "python",
   "pygments_lexer": "ipython3",
   "version": "3.9.6"
  },
  "interpreter": {
   "hash": "a5851cf43e89c10f99519bfaee310a2ad64a656bae5236c7ec6f3ff5135620e5"
  }
 },
 "nbformat": 4,
 "nbformat_minor": 5
}
