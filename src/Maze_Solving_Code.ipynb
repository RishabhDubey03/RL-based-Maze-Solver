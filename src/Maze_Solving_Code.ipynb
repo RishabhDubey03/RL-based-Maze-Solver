{
 "cells": [
  {
   "cell_type": "code",
   "execution_count": 16,
   "id": "192e435f",
   "metadata": {},
   "outputs": [],
   "source": [
    "import numpy as np\n",
    "from collections import namedtuple\n",
    "import time\n",
    "import random\n",
    "import matplotlib.pyplot as plt"
   ]
  },
  {
   "cell_type": "code",
   "execution_count": 17,
   "id": "7635e628",
   "metadata": {},
   "outputs": [],
   "source": [
    "class Agent:\n",
    "    def __init__(self, i=0,j=0):\n",
    "        self.i=i\n",
    "        self.j=j\n",
    "    @property\n",
    "    def loc(self):\n",
    "        return(self.i,self.j)\n",
    "    \n",
    "    def vmove(self,direction):\n",
    "        direction=1 if direction>0 else -1\n",
    "        return Agent(self.i + direction, self.j)\n",
    "    \n",
    "    def hmove(self,direction):\n",
    "        direction=1 if direction>0 else -1\n",
    "        return Agent(self.i , direction+ self.j) \n",
    "    \n",
    "    def __repr__(self):\n",
    "        return str(self.loc)"
   ]
  },
  {
   "cell_type": "code",
   "execution_count": 18,
   "id": "bb81e0a6",
   "metadata": {
    "scrolled": true
   },
   "outputs": [],
   "source": [
    "# general maze class defination\n",
    "class Maze:\n",
    "  \n",
    "    # defining a general 4*4 matrix intialised as 0 matrix\n",
    "    def __init__(self, rows=4,columns=4):\n",
    "        self.env =np.zeros((rows, columns))\n",
    "        # mousy is object of Agent class\n",
    "        self.mousy=Agent(0,0)\n",
    "     \n",
    "    def reset(self):\n",
    "        self.mousy.i = 0\n",
    "        self.mousy.j = 0\n",
    "\n",
    "    def state_for_agent(self,a):\n",
    "        nr,nc=self.env.shape\n",
    "        return a.i*nc+a.j\n",
    "        \n",
    "    def in_bounds(self,i,j):\n",
    "        nr,nc= self.env.shape\n",
    "        return i>=0 and i<nr and j>=0 and j<nc\n",
    "    \n",
    "    def agent_in_bounds(self,a):\n",
    "        return self.in_bounds(a.i,a.j)\n",
    "    \n",
    "    def agent_dient(self,a):\n",
    "        return not self.env[a.i,a.j]== -1\n",
    "    \n",
    "    def is_valid_new_agent(self,a):\n",
    "        return self.agent_in_bounds(a) and self.agent_dient(a)\n",
    "    \n",
    "    @property\n",
    "    def all_actions(self):        \n",
    "        a=self.mousy    \n",
    "        return [\n",
    "            a.vmove(1),\n",
    "            a.vmove(-1),\n",
    "            a.hmove(1),\n",
    "            a.hmove(-1),\n",
    "        ]\n",
    "       \n",
    "    def compute_possible_moves(self):\n",
    "        moves = self.all_actions\n",
    "        return [(m, ii) for ii,m in enumerate(moves) if self.is_valid_new_agent(m) ]\n",
    "    \n",
    "    def do_a_move(self,a):\n",
    "        assert self.is_valid_new_agent(a),\"Mousy can't go there\"\n",
    "        self.mousy=a\n",
    "        return 10 if self.has_won() else -0.1\n",
    "        \n",
    "    def has_won(self):\n",
    "        a=self.mousy\n",
    "        return self.env[a.i,a.j]==1\n",
    "        \n",
    "    def visualise(self):\n",
    "        assert self.agent_in_bounds(self.mousy), \"mousy is out of bounds\"\n",
    "        ec=self.env.copy()\n",
    "        mo=self.mousy\n",
    "        ec[mo.i,mo.j]=6\n",
    "        print(ec)\n",
    "        "
   ]
  },
  {
   "cell_type": "code",
   "execution_count": 19,
   "id": "44b278d6",
   "metadata": {},
   "outputs": [],
   "source": [
    "def show(M):\n",
    "        ec=M.env.copy()\n",
    "        mo=M.mousy\n",
    "        ec[mo.i,mo.j]=0.5\n",
    "        plt.matshow(ec)\n",
    "        plt.clim(-1, 1)\n",
    "        plt.colorbar()\n",
    "        plt.show()"
   ]
  },
  {
   "cell_type": "code",
   "execution_count": 22,
   "id": "2d35661b",
   "metadata": {},
   "outputs": [],
   "source": [
    "# A random test maze we are trying to solve\n",
    "def make_test_maze(s=4): \n",
    "    m = Maze(s,s)\n",
    "    e = m.env\n",
    "    h, w = e.shape\n",
    "    e[-1,-1]= 1\n",
    "\n",
    "    for i in range(len(e)):\n",
    "        for j in range(len(e[i])):\n",
    "\n",
    "            if (i == 0 and j == 0) or (i == h-1 and j == w-1):continue\n",
    "  \n",
    "            if random.random()<0.3:\n",
    "                e[i,j]= -1\n",
    "    return m\n",
    "\n",
    "#             if i in [0, h-1] and j in [0, w-1]: \n",
    "#                 continue"
   ]
  },
  {
   "cell_type": "code",
   "execution_count": 23,
   "id": "3525451e",
   "metadata": {},
   "outputs": [],
   "source": [
    "class Qlearning:\n",
    "    def __init__(self, num_states, num_actions, lr=0.1, discount_factor =0.99):\n",
    "        self.q = np.zeros((num_states, num_actions))\n",
    "        self.a = lr\n",
    "        self.g = discount_factor\n",
    "    \n",
    "    def update(self, st, at, rt, st1):\n",
    "        q = self.q  \n",
    "        a = self.a\n",
    "        g = self.g\n",
    "        #bellman equation\n",
    "        q[st, at] = (1-a) * q[st, at] + a * (rt + g * np.max(q[st1]))"
   ]
  },
  {
   "cell_type": "code",
   "execution_count": 24,
   "id": "f401dd64",
   "metadata": {},
   "outputs": [],
   "source": [
    "def main():\n",
    "    s = int(input(\"enter the size of maze\"))\n",
    "    q = Qlearning(s**2,4)\n",
    "    \n",
    "    go_ahead = False\n",
    "    \n",
    "    while not go_ahead:\n",
    "        M=make_test_maze(s)\n",
    "#         M.visualise()\n",
    "        show(M)\n",
    "        ctu = input ()\n",
    "        if ctu.lower() == 'n':\n",
    "            continue\n",
    "        go_ahead=True\n",
    "        \n",
    "        \n",
    "    \n",
    "    for i in range(200):\n",
    "        M.reset()  \n",
    "        final_score = 0\n",
    "    \n",
    "        itr = 0\n",
    "        while not M.has_won():\n",
    "            itr += 1\n",
    "# exploration and exploitation            \n",
    "            if  random.random()> 0.5  or i < 100:\n",
    "                moves= M.compute_possible_moves()\n",
    "                random.shuffle(moves)\n",
    "                move, move_idx = moves[0]\n",
    "            else:\n",
    "                moves = M.all_actions\n",
    "                s= M.state_for_agent(M.mousy)\n",
    "                move_idx = np.argmax(q.q[s])\n",
    "                move = moves[move_idx]\n",
    "\n",
    "                 \n",
    "            at = move_idx\n",
    "            st = M.state_for_agent(M.mousy)\n",
    "            score = M.do_a_move(move)\n",
    "            final_score += score \n",
    "            rt = score\n",
    "            st1 = M.state_for_agent(M.mousy)\n",
    "\n",
    "            q.update(st, at , rt, st1)\n",
    "            \n",
    "            #bellman equation\n",
    "#           q[st, at] = (1-a) * q[st, at] + a * (rt + g * np.max(q[st1]))\n",
    "\n",
    "#             show(M)        \n",
    "#             print(q.q)\n",
    "#             print(\"\\n\")\n",
    "        \n",
    "        print(f\"finished episode with a final score of {final_score} and in {itr} itereations\")\n",
    "    print(q.q)\n",
    "     \n",
    "        \n",
    "    #BEST SOLUTION\n",
    "    print('\\n')\n",
    "    print(\"MAZE BEST SOLUTION\")\n",
    "    M.reset()\n",
    "#     M.visualise()\n",
    "    show(M)\n",
    "    while not M.has_won():\n",
    "        s= M.state_for_agent(M.mousy)\n",
    "        a_idx = np.argmax(q.q[s])\n",
    "        M.do_a_move(M.all_actions[a_idx])\n",
    "        \n",
    "#         M.visualise()\n",
    "\n",
    "#         ec=M.env.copy()\n",
    "#         mo=M.mousy\n",
    "#         ec[mo.i,mo.j]=0.5\n",
    "#         plt.matshow(ec)\n",
    "#         plt.clim(-1, 1)\n",
    "#         plt.colorbar()\n",
    "#         plt.show()\n",
    "        show(M)\n",
    "        \n",
    "    M.visualise()\n"
   ]
  },
  {
   "cell_type": "code",
   "execution_count": null,
   "id": "cbd8cea8",
   "metadata": {
    "scrolled": false
   },
   "outputs": [
    {
     "name": "stdout",
     "output_type": "stream",
     "text": [
      "enter the size of maze4\n"
     ]
    },
    {
     "data": {
      "image/png": "[encoded data removed]",
      "text/plain": [
       "<Figure size 288x288 with 2 Axes>"
      ]
     },
     "metadata": {
      "needs_background": "light"
     },
     "output_type": "display_data"
    },
    {
     "name": "stdout",
     "output_type": "stream",
     "text": [
      "n\n"
     ]
    },
    {
     "data": {
      "image/png": "[encoded data removed]",
      "text/plain": [
       "<Figure size 288x288 with 2 Axes>"
      ]
     },
     "metadata": {
      "needs_background": "light"
     },
     "output_type": "display_data"
    },
    {
     "name": "stdout",
     "output_type": "stream",
     "text": [
      "n\n"
     ]
    },
    {
     "data": {
      "image/png": "[encoded data removed]",
      "text/plain": [
       "<Figure size 288x288 with 2 Axes>"
      ]
     },
     "metadata": {
      "needs_background": "light"
     },
     "output_type": "display_data"
    },
    {
     "name": "stdout",
     "output_type": "stream",
     "text": [
      "n\n"
     ]
    },
    {
     "data": {
      "image/png": "[encoded data removed]",
      "text/plain": [
       "<Figure size 288x288 with 2 Axes>"
      ]
     },
     "metadata": {
      "needs_background": "light"
     },
     "output_type": "display_data"
    },
    {
     "name": "stdout",
     "output_type": "stream",
     "text": [
      "n\n"
     ]
    },
    {
     "data": {
      "image/png": "[encoded data removed]",
      "text/plain": [
       "<Figure size 288x288 with 2 Axes>"
      ]
     },
     "metadata": {
      "needs_background": "light"
     },
     "output_type": "display_data"
    },
    {
     "name": "stdout",
     "output_type": "stream",
     "text": [
      "n\n"
     ]
    },
    {
     "data": {
      "image/png": "[encoded data removed]",
      "text/plain": [
       "<Figure size 288x288 with 2 Axes>"
      ]
     },
     "metadata": {
      "needs_background": "light"
     },
     "output_type": "display_data"
    },
    {
     "name": "stdout",
     "output_type": "stream",
     "text": [
      "n\n"
     ]
    },
    {
     "data": {
      "image/png": "[encoded data removed]",
      "text/plain": [
       "<Figure size 288x288 with 2 Axes>"
      ]
     },
     "metadata": {
      "needs_background": "light"
     },
     "output_type": "display_data"
    },
    {
     "name": "stdout",
     "output_type": "stream",
     "text": [
      "n\n"
     ]
    },
    {
     "data": {
      "image/png": "[encoded data removed]",
      "text/plain": [
       "<Figure size 288x288 with 2 Axes>"
      ]
     },
     "metadata": {
      "needs_background": "light"
     },
     "output_type": "display_data"
    },
    {
     "name": "stdout",
     "output_type": "stream",
     "text": [
      "n\n"
     ]
    },
    {
     "data": {
      "image/png": "[encoded data removed]",
      "text/plain": [
       "<Figure size 288x288 with 2 Axes>"
      ]
     },
     "metadata": {
      "needs_background": "light"
     },
     "output_type": "display_data"
    },
    {
     "name": "stdout",
     "output_type": "stream",
     "text": [
      "n\n"
     ]
    },
    {
     "data": {
      "image/png": "[encoded data removed]",
      "text/plain": [
       "<Figure size 288x288 with 2 Axes>"
      ]
     },
     "metadata": {
      "needs_background": "light"
     },
     "output_type": "display_data"
    },
    {
     "name": "stdout",
     "output_type": "stream",
     "text": [
      "n\n"
     ]
    },
    {
     "data": {
      "image/png": "[encoded data removed]",
      "text/plain": [
       "<Figure size 288x288 with 2 Axes>"
      ]
     },
     "metadata": {
      "needs_background": "light"
     },
     "output_type": "display_data"
    }
   ],
   "source": [
    "if __name__==\"__main__\":\n",
    "    main()  \n"
   ]
  },
  {
   "cell_type": "markdown",
   "id": "23a57f03",
   "metadata": {},
   "source": []
  },
  {
   "cell_type": "code",
   "execution_count": null,
   "id": "5c58e56f",
   "metadata": {},
   "outputs": [],
   "source": []
  }
 ],
 "metadata": {
  "kernelspec": {
   "display_name": "Python 3",
   "language": "python",
   "name": "python3"
  },
  "language_info": {
   "codemirror_mode": {
    "name": "ipython",
    "version": 3
   },
   "file_extension": ".py",
   "mimetype": "text/x-python",
   "name": "python",
   "nbconvert_exporter": "python",
   "pygments_lexer": "ipython3",
   "version": "3.9.4"
  }
 },
 "nbformat": 4,
 "nbformat_minor": 5
}
