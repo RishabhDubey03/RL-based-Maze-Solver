{
 "cells": [
  {
   "cell_type": "code",
   "execution_count": 14,
   "id": "192e435f",
   "metadata": {},
   "outputs": [],
   "source": [
    "import numpy as np\n",
    "from collections import namedtuple\n",
    "import random"
   ]
  },
  {
   "cell_type": "code",
   "execution_count": 15,
   "id": "7635e628",
   "metadata": {},
   "outputs": [],
   "source": [
    "class Agent:\n",
    "    def __init__(self, i=0,j=0):\n",
    "        self.i=i\n",
    "        self.j=j\n",
    "    @property\n",
    "    def loc(self):\n",
    "        return(self.i,self.j)\n",
    "    \n",
    "    def vmove(self,direction):\n",
    "        direction=1 if direction>0 else -1\n",
    "        return Agent(self.i + direction, self.j)\n",
    "    \n",
    "    def hmove(self,direction):\n",
    "        direction=1 if direction>0 else -1\n",
    "        return Agent(self.i , direction+ self.j) \n",
    "    def __repr__(self):\n",
    "        return str(self.loc)"
   ]
  },
  {
   "cell_type": "code",
   "execution_count": 16,
   "id": "bb81e0a6",
   "metadata": {
    "scrolled": true
   },
   "outputs": [],
   "source": [
    "# general maze class defination\n",
    "class Maze:\n",
    "   \n",
    "    # init method or constructor\n",
    "    \n",
    "    # defining a general 4*4 matrix intialised as 0 matrix\n",
    "    def __init__(self, rows=4,columns=4):\n",
    "        self.env =np.zeros((4, 4))\n",
    "        \n",
    "        # mousy is object of Agent class\n",
    "        self.mousy=Agent(0,0) \n",
    "        \n",
    "    def in_bounds(self,i,j):\n",
    "        nr,nc= self.env.shape\n",
    "        return i>=0 and i<nr and j>=0 and j<nc\n",
    "    \n",
    "    def agent_in_bounds(self,a):\n",
    "        return self.in_bounds(a.i,a.j)\n",
    "    \n",
    "    def agent_dient(self,a):\n",
    "        return not self.env[a.i,a.j]== -1\n",
    "    \n",
    "    def is_valid_new_agent(self,a):\n",
    "        return self.agent_in_bounds(a) and self.agent_dient(a)\n",
    "        \n",
    "       \n",
    "    def compute_possible_moves(self):\n",
    "        a=self.mousy\n",
    "        moves=[\n",
    "            a.vmove(1),\n",
    "            a.vmove(-1),\n",
    "            a.hmove(1),\n",
    "            a.hmove(-1),\n",
    "        ]        \n",
    "        return [m for m in moves if self.is_valid_new_agent(m) ]\n",
    "    \n",
    "    def do_a_move(self,a):\n",
    "        assert self.is_valid_new_agent(a),\"Mousy can't go there\"\n",
    "        self.mousy=a\n",
    "        return 10 if self.has_won() else -0.1\n",
    "        \n",
    "    def has_won(self):\n",
    "        a=self.mousy\n",
    "        return self.env[a.i,a.j]==1\n",
    "        \n",
    "    def visualise(self):\n",
    "        assert self.agent_in_bounds(self.mousy), \"mousy is out of bounds\"\n",
    "        ec=self.env.copy()\n",
    "        mo=self.mousy\n",
    "        ec[mo.i,mo.j]=6\n",
    "        print(ec)\n",
    "        "
   ]
  },
  {
   "cell_type": "code",
   "execution_count": 17,
   "id": "2d35661b",
   "metadata": {},
   "outputs": [],
   "source": [
    "# A test maze we are trying to solve\n",
    "def make_test_maze():\n",
    "    m=Maze()\n",
    "    e=m.env\n",
    "    e[3,3]= 1\n",
    "    e[0,1:3]=-1\n",
    "    e[1,2:4]=-1\n",
    "    e[3,0:2]=-1\n",
    "    return m"
   ]
  },
  {
   "cell_type": "code",
   "execution_count": 24,
   "id": "915b2334",
   "metadata": {},
   "outputs": [],
   "source": [
    "def main():\n",
    "    M = make_test_maze()\n",
    "    M.visualise\n",
    "    final_score=0\n",
    "    while not M.has_won():\n",
    "        moves=M.compute_possible_moves()\n",
    "        random.shuffle(moves)\n",
    "        M.mousy= moves[0]\n",
    "        final_score+=M.do_a_move(moves[0])\n",
    "        M.visualise()\n",
    "    print(\"done\")\n",
    "    print(\"final_score=\",final_score)\n",
    "    "
   ]
  },
  {
   "cell_type": "code",
   "execution_count": 31,
   "id": "cbd8cea8",
   "metadata": {},
   "outputs": [
    {
     "name": "stdout",
     "output_type": "stream",
     "text": [
      "[[ 0. -1. -1.  0.]\n",
      " [ 6.  0. -1. -1.]\n",
      " [ 0.  0.  0.  0.]\n",
      " [-1. -1.  0.  1.]]\n",
      "[[ 0. -1. -1.  0.]\n",
      " [ 0.  0. -1. -1.]\n",
      " [ 6.  0.  0.  0.]\n",
      " [-1. -1.  0.  1.]]\n",
      "[[ 0. -1. -1.  0.]\n",
      " [ 6.  0. -1. -1.]\n",
      " [ 0.  0.  0.  0.]\n",
      " [-1. -1.  0.  1.]]\n",
      "[[ 6. -1. -1.  0.]\n",
      " [ 0.  0. -1. -1.]\n",
      " [ 0.  0.  0.  0.]\n",
      " [-1. -1.  0.  1.]]\n",
      "[[ 0. -1. -1.  0.]\n",
      " [ 6.  0. -1. -1.]\n",
      " [ 0.  0.  0.  0.]\n",
      " [-1. -1.  0.  1.]]\n",
      "[[ 0. -1. -1.  0.]\n",
      " [ 0.  6. -1. -1.]\n",
      " [ 0.  0.  0.  0.]\n",
      " [-1. -1.  0.  1.]]\n",
      "[[ 0. -1. -1.  0.]\n",
      " [ 6.  0. -1. -1.]\n",
      " [ 0.  0.  0.  0.]\n",
      " [-1. -1.  0.  1.]]\n",
      "[[ 0. -1. -1.  0.]\n",
      " [ 0.  6. -1. -1.]\n",
      " [ 0.  0.  0.  0.]\n",
      " [-1. -1.  0.  1.]]\n",
      "[[ 0. -1. -1.  0.]\n",
      " [ 0.  0. -1. -1.]\n",
      " [ 0.  6.  0.  0.]\n",
      " [-1. -1.  0.  1.]]\n",
      "[[ 0. -1. -1.  0.]\n",
      " [ 0.  0. -1. -1.]\n",
      " [ 0.  0.  6.  0.]\n",
      " [-1. -1.  0.  1.]]\n",
      "[[ 0. -1. -1.  0.]\n",
      " [ 0.  0. -1. -1.]\n",
      " [ 0.  0.  0.  6.]\n",
      " [-1. -1.  0.  1.]]\n",
      "[[ 0. -1. -1.  0.]\n",
      " [ 0.  0. -1. -1.]\n",
      " [ 0.  0.  0.  0.]\n",
      " [-1. -1.  0.  6.]]\n",
      "done\n",
      "final_score= 8.9\n"
     ]
    }
   ],
   "source": [
    "if __name__==\"__main__\":\n",
    "    main()\n"
   ]
  },
  {
   "cell_type": "code",
   "execution_count": 2,
   "id": "30ecd6ed",
   "metadata": {},
   "outputs": [
    {
     "name": "stdout",
     "output_type": "stream",
     "text": [
      "practice practice practice practice practice practice practice practice practice practice practice practice practice practice practice practice practice practice practice practice practice practice practice practice practice practice practice practice practice practice practice practice practice practice practice practice practice practice practice practice practice practice practice practice practice practice practice practice practice practice practice practice practice practice practice practice practice practice practice practice practice practice practice practice practice practice practice practice practice practice practice practice practice practice practice practice practice practice practice practice practice practice practice practice practice practice practice practice practice practice practice practice practice practice practice practice practice practice practice practice practice \n"
     ]
    }
   ],
   "source": [
    "name = \"practice\" \n",
    "print((name + \" \") * 101)\n"
   ]
  },
  {
   "cell_type": "code",
   "execution_count": null,
   "id": "dc2e12ea",
   "metadata": {},
   "outputs": [],
   "source": []
  }
 ],
 "metadata": {
  "kernelspec": {
   "display_name": "Python 3",
   "language": "python",
   "name": "python3"
  },
  "language_info": {
   "codemirror_mode": {
    "name": "ipython",
    "version": 3
   },
   "file_extension": ".py",
   "mimetype": "text/x-python",
   "name": "python",
   "nbconvert_exporter": "python",
   "pygments_lexer": "ipython3",
   "version": "3.9.4"
  }
 },
 "nbformat": 4,
 "nbformat_minor": 5
}
